{
 "cells": [
  {
   "cell_type": "code",
   "execution_count": 1,
   "id": "37f477a3",
   "metadata": {},
   "outputs": [],
   "source": [
    "KG_NAME = \"test_graph\""
   ]
  },
  {
   "cell_type": "code",
   "execution_count": null,
   "id": "3fad36e8",
   "metadata": {},
   "outputs": [],
   "source": [
    "from shared_utils.clients.age_client import age_client\n",
    "from shared_utils.queries.apache_age import graph_exists\n",
    "\n",
    "with age_client.scoped_session() as conn:\n",
    "    exists = graph_exists(conn, KG_NAME)\n",
    "    print(exists)\n"
   ]
  },
  {
   "cell_type": "code",
   "execution_count": null,
   "id": "54fd1d9e",
   "metadata": {},
   "outputs": [],
   "source": [
    "from shared_utils.queries.apache_age import exec_cypher\n",
    "\n",
    "with age_client.scoped_session() as session:\n",
    "    cursor = exec_cypher(session,KG_NAME,\"MATCH (n) RETURN n LIMIT 10\")\n",
    "    print(\"Query Result:\", cursor.fetchall())"
   ]
  },
  {
   "cell_type": "markdown",
   "id": "e83332a2",
   "metadata": {},
   "source": [
    "----------------"
   ]
  },
  {
   "cell_type": "markdown",
   "id": "ddd49486",
   "metadata": {},
   "source": [
    "Async counterpart:"
   ]
  },
  {
   "cell_type": "code",
   "execution_count": 8,
   "id": "8b223019",
   "metadata": {},
   "outputs": [
    {
     "name": "stdout",
     "output_type": "stream",
     "text": [
      "(1,)\n"
     ]
    }
   ],
   "source": [
    "import psycopg\n",
    "\n",
    "async with await psycopg.AsyncConnection.connect(\n",
    "    dbname=\"kg_db\",\n",
    "    user=\"postgres\",\n",
    "    password=\"password\",\n",
    "    host=\"localhost\",\n",
    "    port=5432\n",
    ") as conn:\n",
    "    async with conn.cursor() as cursor:\n",
    "        await cursor.execute(\"SELECT 1;\")\n",
    "        result = await cursor.fetchone()\n",
    "        print(result)\n"
   ]
  },
  {
   "cell_type": "code",
   "execution_count": 2,
   "id": "db6e7e1a",
   "metadata": {},
   "outputs": [],
   "source": [
    "from shared_utils.queries.apache_age import async_exec_cypher\n",
    "from shared_utils.clients.async_age_client import async_age_client\n",
    "\n",
    "async def async_test():\n",
    "    async with async_age_client.scoped_connection() as conn:\n",
    "        cursor = await async_exec_cypher(conn, KG_NAME, \"MATCH (n) RETURN n LIMIT 10\")\n",
    "        print(\"Async Query Result:\", await cursor.fetchall())"
   ]
  },
  {
   "cell_type": "code",
   "execution_count": 3,
   "id": "6d5fca1d",
   "metadata": {},
   "outputs": [
    {
     "name": "stderr",
     "output_type": "stream",
     "text": [
      "/home/robot/KG/shared_utils/shared_utils/clients/async_age_client.py:24: RuntimeWarning: coroutine 'AsyncConnection.rollback' was never awaited\n",
      "  conn.rollback()\n",
      "RuntimeWarning: Enable tracemalloc to get the object allocation traceback\n",
      "/home/robot/KG/shared_utils/shared_utils/clients/async_age_client.py:27: RuntimeWarning: coroutine 'AsyncConnection.close' was never awaited\n",
      "  conn.close()\n",
      "RuntimeWarning: Enable tracemalloc to get the object allocation traceback\n",
      "/home/robot/KG/shared_utils/shared_utils/queries/apache_age.py:5: SyntaxWarning: invalid escape sequence '\\s'\n",
      "  WHITESPACE = compile('\\s')\n"
     ]
    },
    {
     "ename": "TypeError",
     "evalue": "object AsyncCursor can't be used in 'await' expression",
     "output_type": "error",
     "traceback": [
      "\u001b[31m---------------------------------------------------------------------------\u001b[39m",
      "\u001b[31mTypeError\u001b[39m                                 Traceback (most recent call last)",
      "\u001b[36mCell\u001b[39m\u001b[36m \u001b[39m\u001b[32mIn[3]\u001b[39m\u001b[32m, line 1\u001b[39m\n\u001b[32m----> \u001b[39m\u001b[32m1\u001b[39m \u001b[38;5;28;01mawait\u001b[39;00m async_test()\n",
      "\u001b[36mCell\u001b[39m\u001b[36m \u001b[39m\u001b[32mIn[2]\u001b[39m\u001b[32m, line 6\u001b[39m, in \u001b[36masync_test\u001b[39m\u001b[34m()\u001b[39m\n\u001b[32m      4\u001b[39m \u001b[38;5;28;01masync\u001b[39;00m \u001b[38;5;28;01mdef\u001b[39;00m\u001b[38;5;250m \u001b[39m\u001b[34masync_test\u001b[39m():\n\u001b[32m      5\u001b[39m     \u001b[38;5;28;01masync\u001b[39;00m \u001b[38;5;28;01mwith\u001b[39;00m async_age_client.scoped_connection() \u001b[38;5;28;01mas\u001b[39;00m conn:\n\u001b[32m----> \u001b[39m\u001b[32m6\u001b[39m         cursor = \u001b[38;5;28;01mawait\u001b[39;00m async_exec_cypher(conn, KG_NAME, \u001b[33m\"\u001b[39m\u001b[33mMATCH (n) RETURN n LIMIT 10\u001b[39m\u001b[33m\"\u001b[39m)\n\u001b[32m      7\u001b[39m         \u001b[38;5;28mprint\u001b[39m(\u001b[33m\"\u001b[39m\u001b[33mAsync Query Result:\u001b[39m\u001b[33m\"\u001b[39m, \u001b[38;5;28;01mawait\u001b[39;00m cursor.fetchall())\n",
      "\u001b[36mFile \u001b[39m\u001b[32m~/KG/shared_utils/shared_utils/queries/apache_age.py:79\u001b[39m, in \u001b[36masync_exec_cypher\u001b[39m\u001b[34m(conn, graph_name, cypher_stmt, cols, params)\u001b[39m\n\u001b[32m     76\u001b[39m \u001b[38;5;28;01mif\u001b[39;00m conn == \u001b[38;5;28;01mNone\u001b[39;00m \u001b[38;5;129;01mor\u001b[39;00m conn.closed:\n\u001b[32m     77\u001b[39m     \u001b[38;5;28;01mraise\u001b[39;00m \u001b[38;5;167;01mException\u001b[39;00m(\u001b[33m\"\u001b[39m\u001b[33mConnection is not open or is closed\u001b[39m\u001b[33m\"\u001b[39m)\n\u001b[32m---> \u001b[39m\u001b[32m79\u001b[39m cursor:AsyncCursor = \u001b[38;5;28;01mawait\u001b[39;00m conn.cursor()\n\u001b[32m     80\u001b[39m \u001b[38;5;66;03m#clean up the string for parameter injection\u001b[39;00m\n\u001b[32m     81\u001b[39m cypher_stmt = cypher_stmt.replace(\u001b[33m\"\u001b[39m\u001b[38;5;130;01m\\n\u001b[39;00m\u001b[33m\"\u001b[39m, \u001b[33m\"\u001b[39m\u001b[33m\"\u001b[39m)\n",
      "\u001b[31mTypeError\u001b[39m: object AsyncCursor can't be used in 'await' expression"
     ]
    }
   ],
   "source": [
    "await async_test()"
   ]
  },
  {
   "cell_type": "code",
   "execution_count": null,
   "id": "f1f7b274",
   "metadata": {},
   "outputs": [],
   "source": []
  }
 ],
 "metadata": {
  "kernelspec": {
   "display_name": ".venv",
   "language": "python",
   "name": "python3"
  },
  "language_info": {
   "codemirror_mode": {
    "name": "ipython",
    "version": 3
   },
   "file_extension": ".py",
   "mimetype": "text/x-python",
   "name": "python",
   "nbconvert_exporter": "python",
   "pygments_lexer": "ipython3",
   "version": "3.12.11"
  }
 },
 "nbformat": 4,
 "nbformat_minor": 5
}
