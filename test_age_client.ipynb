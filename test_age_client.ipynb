{
 "cells": [
  {
   "cell_type": "code",
   "execution_count": 1,
   "id": "37f477a3",
   "metadata": {},
   "outputs": [],
   "source": [
    "KG_NAME = \"test_graph\""
   ]
  },
  {
   "cell_type": "code",
   "execution_count": null,
   "id": "3fad36e8",
   "metadata": {},
   "outputs": [],
   "source": [
    "from shared_utils.clients.age_client import age_client\n",
    "from shared_utils.queries.apache_age import graph_exists\n",
    "\n",
    "with age_client.scoped_session() as conn:\n",
    "    exists = graph_exists(conn, KG_NAME)\n",
    "    print(exists)\n"
   ]
  },
  {
   "cell_type": "code",
   "execution_count": null,
   "id": "54fd1d9e",
   "metadata": {},
   "outputs": [],
   "source": [
    "from shared_utils.queries.apache_age import exec_cypher\n",
    "\n",
    "with age_client.scoped_session() as session:\n",
    "    cursor = exec_cypher(session,KG_NAME,\"MATCH (n) RETURN n LIMIT 10\")\n",
    "    print(\"Query Result:\", cursor.fetchall())"
   ]
  },
  {
   "cell_type": "markdown",
   "id": "e83332a2",
   "metadata": {},
   "source": [
    "----------------"
   ]
  },
  {
   "cell_type": "markdown",
   "id": "ddd49486",
   "metadata": {},
   "source": [
    "Async counterpart:"
   ]
  },
  {
   "cell_type": "code",
   "execution_count": 8,
   "id": "8b223019",
   "metadata": {},
   "outputs": [
    {
     "name": "stdout",
     "output_type": "stream",
     "text": [
      "(1,)\n"
     ]
    }
   ],
   "source": [
    "import psycopg\n",
    "\n",
    "async with await psycopg.AsyncConnection.connect(\n",
    "    dbname=\"kg_db\",\n",
    "    user=\"postgres\",\n",
    "    password=\"password\",\n",
    "    host=\"localhost\",\n",
    "    port=5432\n",
    ") as conn:\n",
    "    async with conn.cursor() as cursor:\n",
    "        await cursor.execute(\"SELECT 1;\")\n",
    "        result = await cursor.fetchone()\n",
    "        print(result)\n"
   ]
  },
  {
   "cell_type": "code",
   "execution_count": 1,
   "id": "db6e7e1a",
   "metadata": {},
   "outputs": [
    {
     "name": "stderr",
     "output_type": "stream",
     "text": [
      "/home/robot/KG/shared_utils/shared_utils/queries/apache_age.py:5: SyntaxWarning: invalid escape sequence '\\s'\n",
      "  WHITESPACE = compile('\\s')\n"
     ]
    }
   ],
   "source": [
    "from shared_utils.queries.apache_age import async_exec_cypher\n",
    "from shared_utils.clients.async_age_client import async_age_client\n",
    "KG_NAME = \"test_graph\"\n",
    "async def async_test():\n",
    "    async with async_age_client.scoped_connection() as conn:\n",
    "        cursor = await async_exec_cypher(conn, KG_NAME, \"MATCH (n) RETURN n LIMIT 10\")\n",
    "        print(\"Async Query Result:\", await cursor.fetchall())"
   ]
  },
  {
   "cell_type": "code",
   "execution_count": 2,
   "id": "6d5fca1d",
   "metadata": {},
   "outputs": [
    {
     "name": "stdout",
     "output_type": "stream",
     "text": [
      "Async Query Result: []\n"
     ]
    }
   ],
   "source": [
    "await async_test()"
   ]
  },
  {
   "cell_type": "code",
   "execution_count": null,
   "id": "f1f7b274",
   "metadata": {},
   "outputs": [],
   "source": []
  }
 ],
 "metadata": {
  "kernelspec": {
   "display_name": ".venv",
   "language": "python",
   "name": "python3"
  },
  "language_info": {
   "codemirror_mode": {
    "name": "ipython",
    "version": 3
   },
   "file_extension": ".py",
   "mimetype": "text/x-python",
   "name": "python",
   "nbconvert_exporter": "python",
   "pygments_lexer": "ipython3",
   "version": "3.12.11"
  }
 },
 "nbformat": 4,
 "nbformat_minor": 5
}
