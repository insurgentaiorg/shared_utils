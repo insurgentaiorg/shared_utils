{
 "cells": [
  {
   "cell_type": "code",
   "execution_count": 1,
   "id": "e419990b",
   "metadata": {},
   "outputs": [],
   "source": [
    "# imports\n",
    "from sqlalchemy.ext.asyncio import create_async_engine, async_sessionmaker #async_scoped_session\n",
    "from sqlalchemy import select\n",
    "from sqlalchemy.ext.asyncio import AsyncSession\n",
    "from shared_utils.sql_models import DocumentMetadata"
   ]
  },
  {
   "cell_type": "code",
   "execution_count": null,
   "id": "8888bc8e",
   "metadata": {},
   "outputs": [],
   "source": [
    "user='postgres'\n",
    "password='password'\n",
    "host='localhost'\n",
    "port=5432\n",
    "dbname='kg_db'\n",
    "\n",
    "postgres_url=f\"postgresql+asyncpg://{user}:{password}@{host}:{port}/{dbname}\""
   ]
  },
  {
   "cell_type": "code",
   "execution_count": 2,
   "id": "74dfb305",
   "metadata": {},
   "outputs": [],
   "source": [
    "async def get_doc(async_session:AsyncSession, document_id:str):\n",
    "    stmt = select(DocumentMetadata).where(DocumentMetadata.document_id == f'{document_id}')\n",
    "\n",
    "    result = await async_session.execute(stmt)\n",
    "    document = result.scalar_one_or_none()\n",
    "    return document"
   ]
  },
  {
   "cell_type": "code",
   "execution_count": null,
   "id": "a80f7922",
   "metadata": {},
   "outputs": [],
   "source": [
    "engine = create_async_engine(postgres_url, echo=False)\n",
    "\n",
    "async_session_maker = async_sessionmaker(\n",
    "    engine,\n",
    "    expire_on_commit=False)\n",
    "\n",
    "async with async_session_maker() as session:\n",
    "    document = await get_doc(session, '2e405a54-d721-42da-b272-c12ee35b3c6d')\n",
    "    print(document)"
   ]
  },
  {
   "cell_type": "markdown",
   "id": "015a2a26",
   "metadata": {},
   "source": [
    "---------------------"
   ]
  },
  {
   "cell_type": "markdown",
   "id": "7b3c0a39",
   "metadata": {},
   "source": [
    "Attempt same with db client"
   ]
  },
  {
   "cell_type": "code",
   "execution_count": null,
   "id": "88ba4c7d",
   "metadata": {},
   "outputs": [
    {
     "name": "stdout",
     "output_type": "stream",
     "text": [
      "s3_key='uploads/quantum_example.pdf' document_id=UUID('2e405a54-d721-42da-b272-c12ee35b3c6d') status='UPLOADED'\n"
     ]
    }
   ],
   "source": [
    "from shared_utils.clients.async_db_client import async_db_client\n",
    "\n",
    "\n",
    "async with async_db_client.scoped_session() as session:\n",
    "    # (use same get doc function)\n",
    "    document = await get_doc(session, '2e405a54-d721-42da-b272-c12ee35b3c6d')\n",
    "    print(document)"
   ]
  },
  {
   "cell_type": "code",
   "execution_count": null,
   "id": "00cef0f4",
   "metadata": {},
   "outputs": [],
   "source": []
  }
 ],
 "metadata": {
  "kernelspec": {
   "display_name": ".venv",
   "language": "python",
   "name": "python3"
  },
  "language_info": {
   "codemirror_mode": {
    "name": "ipython",
    "version": 3
   },
   "file_extension": ".py",
   "mimetype": "text/x-python",
   "name": "python",
   "nbconvert_exporter": "python",
   "pygments_lexer": "ipython3",
   "version": "3.12.11"
  }
 },
 "nbformat": 4,
 "nbformat_minor": 5
}
