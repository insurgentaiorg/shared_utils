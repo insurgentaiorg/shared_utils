{
 "cells": [
  {
   "cell_type": "code",
   "execution_count": 2,
   "id": "eb6fd5b3",
   "metadata": {},
   "outputs": [],
   "source": [
    "import os\n",
    "os.environ[\"REDIS_URL\"] = \"redis://localhost:6379/0\"\n",
    "from shared_utils.clients.redis_client import redis_client"
   ]
  },
  {
   "cell_type": "code",
   "execution_count": 8,
   "id": "8d677b4f",
   "metadata": {},
   "outputs": [
    {
     "name": "stdout",
     "output_type": "stream",
     "text": [
      "test-stream-d13e4907-87da-4caf-ac12-5111ffff2cfa\n",
      "test-group\n",
      "id='1' value='test-1'\n"
     ]
    }
   ],
   "source": [
    "import uuid\n",
    "from pydantic import BaseModel\n",
    "\n",
    "class TestMessage(BaseModel):\n",
    "    id: str\n",
    "    value: str\n",
    "\n",
    "stream_name = f\"test-stream-{uuid.uuid4()}\"\n",
    "group_id = \"test-group\"\n",
    "event = TestMessage(id=\"1\", value=\"test-1\")\n",
    "\n",
    "print(stream_name, group_id, event, sep=\"\\n\")"
   ]
  },
  {
   "cell_type": "code",
   "execution_count": null,
   "id": "fcf6a881",
   "metadata": {},
   "outputs": [
    {
     "name": "stderr",
     "output_type": "stream",
     "text": [
      "2025-07-19 13:21:31,002 [RedisConsumer-test-stream-d13e4907-87da-4caf-ac12-5111ffff2cfa] WARNING: Running non-async callback <function test_callback at 0x7f25ab76ba60> in thread pool\n",
      "/usr/lib/python3.12/asyncio/base_events.py:2000: RuntimeWarning: coroutine 'test_callback' was never awaited\n",
      "  handle = None  # Needed to break cycles when an exception occurs.\n",
      "RuntimeWarning: Enable tracemalloc to get the object allocation traceback\n"
     ]
    }
   ],
   "source": [
    "# create a new consumer thread for the stream\n",
    "redis_client.create_consumer(stream_name, group_id, max_concurrent_tasks=1)"
   ]
  },
  {
   "cell_type": "code",
   "execution_count": null,
   "id": "361d026d",
   "metadata": {},
   "outputs": [],
   "source": [
    "# register the callback to the consumer thread\n",
    "\n",
    "from shared_utils import deserialize_event\n",
    "import asyncio\n",
    "@deserialize_event(TestMessage)\n",
    "async def test_callback(event: TestMessage):\n",
    "    print(f\"Processing message {event.id} with value: {event.value}\")\n",
    "    await asyncio.sleep(1)\n",
    "    print(f\"Finished processing message {event.id}\")\n",
    "\n",
    "redis_client.register_callback(stream=stream_name, group_id=group_id, callback=test_callback)"
   ]
  },
  {
   "cell_type": "code",
   "execution_count": 12,
   "id": "2eaf9fdc",
   "metadata": {},
   "outputs": [],
   "source": [
    "# send a message to the stream\n",
    "\n",
    "msg = event\n",
    "redis_client.send(stream=stream_name, value=msg)"
   ]
  },
  {
   "cell_type": "code",
   "execution_count": null,
   "id": "622c28cb",
   "metadata": {},
   "outputs": [],
   "source": []
  }
 ],
 "metadata": {
  "kernelspec": {
   "display_name": ".venv",
   "language": "python",
   "name": "python3"
  },
  "language_info": {
   "codemirror_mode": {
    "name": "ipython",
    "version": 3
   },
   "file_extension": ".py",
   "mimetype": "text/x-python",
   "name": "python",
   "nbconvert_exporter": "python",
   "pygments_lexer": "ipython3",
   "version": "3.12.11"
  }
 },
 "nbformat": 4,
 "nbformat_minor": 5
}
