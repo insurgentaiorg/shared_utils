{
 "cells": [
  {
   "cell_type": "markdown",
   "id": "d2664703",
   "metadata": {},
   "source": [
    "Test async callback"
   ]
  },
  {
   "cell_type": "code",
   "execution_count": 1,
   "id": "eb6fd5b3",
   "metadata": {},
   "outputs": [],
   "source": [
    "import os\n",
    "os.environ[\"REDIS_URL\"] = \"redis://localhost:6379/0\"\n",
    "from shared_utils.clients.redis_client import redis_client"
   ]
  },
  {
   "cell_type": "code",
   "execution_count": 2,
   "id": "8d677b4f",
   "metadata": {},
   "outputs": [
    {
     "name": "stdout",
     "output_type": "stream",
     "text": [
      "test-stream-316e93d2-078a-472b-a760-ad220396ccff\n",
      "test-group\n",
      "id='2' value='test-2'\n"
     ]
    }
   ],
   "source": [
    "import uuid\n",
    "from pydantic import BaseModel\n",
    "\n",
    "class TestMessage(BaseModel):\n",
    "    id: str\n",
    "    value: str\n",
    "\n",
    "stream_name = f\"test-stream-{uuid.uuid4()}\"\n",
    "group_id = \"test-group\"\n",
    "event = TestMessage(id=\"2\", value=\"test-2\")\n",
    "\n",
    "print(stream_name, group_id, event, sep=\"\\n\")"
   ]
  },
  {
   "cell_type": "code",
   "execution_count": null,
   "id": "fcf6a881",
   "metadata": {},
   "outputs": [],
   "source": [
    "# create a new consumer thread for the stream\n",
    "redis_client.create_consumer(stream_name, group_id, max_concurrent_tasks=1)"
   ]
  },
  {
   "cell_type": "code",
   "execution_count": null,
   "id": "361d026d",
   "metadata": {},
   "outputs": [],
   "source": [
    "# register the callback to the consumer thread\n",
    "\n",
    "from shared_utils import deserialize_event\n",
    "import asyncio\n",
    "@deserialize_event(TestMessage)\n",
    "async def test_callback(event: TestMessage):\n",
    "    print(f\"Processing message {event.id} with value: {event.value}\")\n",
    "    await asyncio.sleep(1)\n",
    "    print(f\"Finished processing message {event.id}\")\n",
    "\n",
    "redis_client.register_callback(stream=stream_name, group_id=group_id, callback=test_callback)"
   ]
  },
  {
   "cell_type": "code",
   "execution_count": null,
   "id": "2eaf9fdc",
   "metadata": {},
   "outputs": [],
   "source": [
    "# send a message to the stream\n",
    "\n",
    "msg = event\n",
    "redis_client.send(stream=stream_name, value=msg)"
   ]
  },
  {
   "cell_type": "markdown",
   "id": "622c28cb",
   "metadata": {},
   "source": [
    "-----------"
   ]
  },
  {
   "cell_type": "markdown",
   "id": "1f72966a",
   "metadata": {},
   "source": [
    "Test synchronouse callback"
   ]
  },
  {
   "cell_type": "code",
   "execution_count": null,
   "id": "bc1485c2",
   "metadata": {},
   "outputs": [],
   "source": [
    "import time\n",
    "import logging \n",
    "from shared_utils import deserialize_event\n",
    "\n",
    "logging.basicConfig(level=logging.INFO, format='%(asctime)s - %(levelname)s - %(message)s')\n",
    "\n",
    "@deserialize_event(TestMessage)\n",
    "def test_sync_callback(event: TestMessage):\n",
    "    # use logging since its thread-safe\n",
    "    logging.info(f\"Processing message {event.id} with value: {event.value}\")\n",
    "    time.sleep(1) # this should block the thread created for this callback\n",
    "    logging.info(f\"Finished processing message {event.id}\")\n",
    "\n",
    "redis_client.register_callback(stream=stream_name, group_id=group_id, callback=test_sync_callback)"
   ]
  },
  {
   "cell_type": "code",
   "execution_count": null,
   "id": "2d7f42e0",
   "metadata": {},
   "outputs": [],
   "source": [
    "# send a message to the stream\n",
    "\n",
    "msg = event\n",
    "redis_client.send(stream=stream_name, value=msg)"
   ]
  },
  {
   "cell_type": "markdown",
   "id": "8cae7db7",
   "metadata": {},
   "source": [
    "-------------"
   ]
  },
  {
   "cell_type": "markdown",
   "id": "b0f39ad0",
   "metadata": {},
   "source": [
    "Test DB operations with concurrency"
   ]
  },
  {
   "cell_type": "code",
   "execution_count": 3,
   "id": "78ff26b3",
   "metadata": {},
   "outputs": [
    {
     "name": "stdout",
     "output_type": "stream",
     "text": [
      "test-stream-e120bba6-712d-4965-9403-f86d619f50be\n",
      "test-group\n",
      "doc_id='2e405a54-d721-42da-b272-c12ee35b3c6d'\n"
     ]
    }
   ],
   "source": [
    "# Test async db client\n",
    "from shared_utils.clients.async_db_client import async_db_client\n",
    "import uuid\n",
    "from pydantic import BaseModel\n",
    "\n",
    "stream_name = f\"test-stream-{uuid.uuid4()}\"\n",
    "group_id = \"test-group\"\n",
    "doc_id = \"2e405a54-d721-42da-b272-c12ee35b3c6d\"\n",
    "\n",
    "class GetDocumentMessage(BaseModel):\n",
    "    doc_id: str\n",
    "\n",
    "\n",
    "event = GetDocumentMessage(doc_id=doc_id)\n",
    "\n",
    "print(stream_name, group_id, event, sep=\"\\n\")"
   ]
  },
  {
   "cell_type": "code",
   "execution_count": 4,
   "id": "8941f637",
   "metadata": {},
   "outputs": [],
   "source": [
    "from sqlmodel import Session, select\n",
    "from shared_utils.sql_models import DocumentMetadata\n",
    "\n",
    "async def get_document(document_id:str) -> DocumentMetadata | None:\n",
    "    async with async_db_client.scoped_session() as async_session:\n",
    "        statement = select(DocumentMetadata).where(DocumentMetadata.document_id == document_id)\n",
    "        result = (await async_session.execute(statement)).scalar_one_or_none()\n",
    "        return result if result else None"
   ]
  },
  {
   "cell_type": "code",
   "execution_count": 5,
   "id": "ae25f5b6",
   "metadata": {},
   "outputs": [],
   "source": [
    "# create an async callback for the stream\n",
    "from shared_utils import deserialize_event\n",
    "from shared_utils.sql_models import DocumentMetadata\n",
    "import logging\n",
    "\n",
    "@deserialize_event(GetDocumentMessage)\n",
    "async def test_async_callback(event: GetDocumentMessage):\n",
    "    logging.info(f\"Getting DocumentMetadata from db with doc_id: {event.doc_id}\")\n",
    "\n",
    "    document:DocumentMetadata = await get_document(event.doc_id)\n",
    "\n",
    "    if document:\n",
    "        logging.info(f\"Found document with ID {document.document_id} and s3_key: {document.s3_key}\")\n",
    "    else:\n",
    "        logging.info(f\"No document found with ID {event.doc_id}\")"
   ]
  },
  {
   "cell_type": "code",
   "execution_count": 6,
   "id": "0bccd19f",
   "metadata": {},
   "outputs": [
    {
     "name": "stderr",
     "output_type": "stream",
     "text": [
      "2025-07-19 19:33:29,817 [RedisConsumer-test-stream-e120bba6-712d-4965-9403-f86d619f50be] INFO: Getting DocumentMetadata from db with doc_id: 2e405a54-d721-42da-b272-c12ee35b3c6d\n",
      "2025-07-19 19:33:29,862 [RedisConsumer-test-stream-e120bba6-712d-4965-9403-f86d619f50be] INFO: Found document with ID 2e405a54-d721-42da-b272-c12ee35b3c6d and s3_key: uploads/quantum_example.pdf\n"
     ]
    }
   ],
   "source": [
    "# create the stream, register the callback\n",
    "import os\n",
    "os.environ[\"REDIS_URL\"] = \"redis://localhost:6379/0\"\n",
    "from shared_utils.clients.redis_client import redis_client\n",
    "\n",
    "redis_client.create_consumer(stream_name, group_id, max_concurrent_tasks=1)\n",
    "redis_client.register_callback(stream=stream_name, group_id=group_id, callback=test_async_callback)"
   ]
  },
  {
   "cell_type": "code",
   "execution_count": 7,
   "id": "401eb405",
   "metadata": {},
   "outputs": [],
   "source": [
    "# send the event\n",
    "\n",
    "redis_client.send(stream=stream_name, value=event)"
   ]
  },
  {
   "cell_type": "code",
   "execution_count": null,
   "id": "28739946",
   "metadata": {},
   "outputs": [],
   "source": []
  }
 ],
 "metadata": {
  "kernelspec": {
   "display_name": ".venv",
   "language": "python",
   "name": "python3"
  },
  "language_info": {
   "codemirror_mode": {
    "name": "ipython",
    "version": 3
   },
   "file_extension": ".py",
   "mimetype": "text/x-python",
   "name": "python",
   "nbconvert_exporter": "python",
   "pygments_lexer": "ipython3",
   "version": "3.12.11"
  }
 },
 "nbformat": 4,
 "nbformat_minor": 5
}
