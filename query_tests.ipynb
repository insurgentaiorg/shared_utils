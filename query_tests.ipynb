{
 "cells": [
  {
   "cell_type": "code",
   "execution_count": 6,
   "id": "cfd8b54e",
   "metadata": {},
   "outputs": [],
   "source": [
    "from shared_utils.clients.age_client import age_client\n",
    "from shared_utils.queries.apache_age import exec_cypher\n",
    "\n",
    "KG_NAME = \"kg_83e8bf62_8797_4ed5_be17_4ae430622533\""
   ]
  },
  {
   "cell_type": "code",
   "execution_count": null,
   "id": "3bb992e6",
   "metadata": {},
   "outputs": [
    {
     "name": "stdout",
     "output_type": "stream",
     "text": [
      "Testing exec_cypher with session\n"
     ]
    }
   ],
   "source": [
    "# test session creation\n",
    "with age_client.scoped_session() as session:\n",
    "    print(\"Testing exec_cypher with session\")"
   ]
  },
  {
   "cell_type": "code",
   "execution_count": 8,
   "id": "68ad4627",
   "metadata": {},
   "outputs": [
    {
     "name": "stdout",
     "output_type": "stream",
     "text": [
      "Query Result: [('{\"id\": 844424930131971, \"label\": \"Entity\", \"properties\": {\"id\": \"AALTO UNIVERSITY\", \"name\": \"Aalto University\", \"tags\": [\"[{\\\\\"page\\\\\": 0, \\\\\"document_id\\\\\": \\\\\"64a56fe2-2cad-4ca5-8ba9-be82feaba479\\\\\"}]\"], \"references\": [\"2f7a035f-85fb-4c82-8a9e-68ca7c50b2c2\"]}}::vertex',), ('{\"id\": 844424930131972, \"label\": \"Entity\", \"properties\": {\"id\": \"JANE-ELLEN LONG\", \"name\": \"Jane-Ellen Long\", \"tags\": [\"[{\\\\\"page\\\\\": 0, \\\\\"document_id\\\\\": \\\\\"64a56fe2-2cad-4ca5-8ba9-be82feaba479\\\\\"}]\"], \"references\": [\"2f7a035f-85fb-4c82-8a9e-68ca7c50b2c2\"]}}::vertex',), ('{\"id\": 844424930131974, \"label\": \"Entity\", \"properties\": {\"id\": \"PEKKA NIKANDER\", \"name\": \"Pekka Nikander\", \"tags\": [\"[{\\\\\"page\\\\\": 0, \\\\\"document_id\\\\\": \\\\\"64a56fe2-2cad-4ca5-8ba9-be82feaba479\\\\\"}]\"], \"references\": [\"2f7a035f-85fb-4c82-8a9e-68ca7c50b2c2\"]}}::vertex',), ('{\"id\": 844424930131975, \"label\": \"Entity\", \"properties\": {\"id\": \"USENIX ASSOCIATION\", \"name\": \"USENIX Association\", \"tags\": [\"[{\\\\\"page\\\\\": 0, \\\\\"document_id\\\\\": \\\\\"64a56fe2-2cad-4ca5-8ba9-be82feaba479\\\\\"}]\", \"[{\\\\\"page\\\\\": 0, \\\\\"document_id\\\\\": \\\\\"64a56fe2-2cad-4ca5-8ba9-be82feaba479\\\\\"}]\"], \"references\": [\"2f7a035f-85fb-4c82-8a9e-68ca7c50b2c2\", \"24a28263-a955-4d42-9155-cc3c5201667e\"]}}::vertex',), ('{\"id\": 844424930131977, \"label\": \"Entity\", \"properties\": {\"id\": \"FUTURE INTERSTELLAR\", \"name\": \"future interstellar\", \"tags\": [\"[{\\\\\"page\\\\\": 0, \\\\\"document_id\\\\\": \\\\\"64a56fe2-2cad-4ca5-8ba9-be82feaba479\\\\\"}]\"], \"references\": [\"aab14638-9d00-4249-9558-f9d8baecdbad\"]}}::vertex',), ('{\"id\": 844424930131985, \"label\": \"Entity\", \"properties\": {\"id\": \"SIGNAL DEGRADATION\", \"name\": \"signal degradation\", \"tags\": [\"[{\\\\\"page\\\\\": 0, \\\\\"document_id\\\\\": \\\\\"64a56fe2-2cad-4ca5-8ba9-be82feaba479\\\\\"}]\"], \"references\": [\"8616b280-6192-449d-9c9b-30accd49f6e3\"]}}::vertex',), ('{\"id\": 844424930131986, \"label\": \"Entity\", \"properties\": {\"id\": \"VAST DISTANCES\", \"name\": \"vast distances\", \"tags\": [\"[{\\\\\"page\\\\\": 0, \\\\\"document_id\\\\\": \\\\\"64a56fe2-2cad-4ca5-8ba9-be82feaba479\\\\\"}]\"], \"references\": [\"8616b280-6192-449d-9c9b-30accd49f6e3\"]}}::vertex',), ('{\"id\": 844424930131984, \"label\": \"Entity\", \"properties\": {\"id\": \"TRANSMISSION SPEEDS\", \"name\": \"transmission speeds\", \"tags\": [\"[{\\\\\"page\\\\\": 0, \\\\\"document_id\\\\\": \\\\\"64a56fe2-2cad-4ca5-8ba9-be82feaba479\\\\\"}]\", \"[{\\\\\"page\\\\\": 0, \\\\\"document_id\\\\\": \\\\\"64a56fe2-2cad-4ca5-8ba9-be82feaba479\\\\\"}]\"], \"references\": [\"8616b280-6192-449d-9c9b-30accd49f6e3\", \"2dfe7e06-7694-442c-bf4f-6fc3c1a1cf3f\"]}}::vertex',), ('{\"id\": 844424930131990, \"label\": \"Entity\", \"properties\": {\"id\": \"INFLUENCES\", \"name\": \"influences\", \"tags\": [\"[{\\\\\"page\\\\\": 0, \\\\\"document_id\\\\\": \\\\\"64a56fe2-2cad-4ca5-8ba9-be82feaba479\\\\\"}]\", \"[{\\\\\"page\\\\\": 0, \\\\\"document_id\\\\\": \\\\\"64a56fe2-2cad-4ca5-8ba9-be82feaba479\\\\\"}]\"], \"references\": [\"5999d838-0553-4d48-a774-8c26c275f276\", \"12ce63db-5701-48cd-8dd2-eff5c14ac127\"]}}::vertex',), ('{\"id\": 844424930131992, \"label\": \"Entity\", \"properties\": {\"id\": \"OTHERS\", \"name\": \"others\", \"tags\": [\"[{\\\\\"page\\\\\": 0, \\\\\"document_id\\\\\": \\\\\"64a56fe2-2cad-4ca5-8ba9-be82feaba479\\\\\"}]\", \"[{\\\\\"page\\\\\": 0, \\\\\"document_id\\\\\": \\\\\"64a56fe2-2cad-4ca5-8ba9-be82feaba479\\\\\"}]\"], \"references\": [\"a9492ca3-67d7-482e-865e-2c410346d852\", \"97558132-8a07-46cd-a008-9b9210f96108\"]}}::vertex',)]\n"
     ]
    }
   ],
   "source": [
    "# test exec cypher\n",
    "\n",
    "with age_client.scoped_session() as session:\n",
    "    cursor = exec_cypher(session,KG_NAME,\"MATCH (n) RETURN n LIMIT 10\")\n",
    "    print(\"Query Result:\", cursor.fetchall())"
   ]
  },
  {
   "cell_type": "code",
   "execution_count": null,
   "id": "d62f34b4",
   "metadata": {},
   "outputs": [
    {
     "data": {
      "text/plain": [
       "\"MATCH p=(a:Entity {name: 'Jane-Ellen Long'}) RETURN a.id\""
      ]
     },
     "execution_count": 17,
     "metadata": {},
     "output_type": "execute_result"
    }
   ],
   "source": [
    "# tested working query in psql:\n",
    "# SELECT * FROM cypher('kg_83e8bf62_8797_4ed5_be17_4ae430622533', $$\n",
    "# MATCH p=(a:Entity {name: 'Jane-Ellen Long'})\n",
    "# RETURN a.id\n",
    "# $$) as (e_id agtype);\n",
    "#\n",
    "# Result:\n",
    "# [('\"JANE-ELLEN LONG\"',), ('\"JANE-ELLEN LONG\"',)]\n",
    "\n",
    "cypher = \"MATCH p=(a:Entity {name: %s}) RETURN a.id\"\n",
    "params = (\"'Jane-Ellen Long'\")\n",
    "\n",
    "cypher % params"
   ]
  },
  {
   "cell_type": "code",
   "execution_count": 18,
   "id": "c07a7914",
   "metadata": {},
   "outputs": [
    {
     "name": "stdout",
     "output_type": "stream",
     "text": [
      "Query Result with params: [('\"JANE-ELLEN LONG\"',), ('\"JANE-ELLEN LONG\"',)]\n"
     ]
    }
   ],
   "source": [
    "# test exec cypher with params\n",
    "with age_client.scoped_session() as session:\n",
    "    cursor = exec_cypher(conn=session, graph_name=KG_NAME, cols=None, cypher_stmt=cypher, params=params)\n",
    "    print(\"Query Result with params:\", cursor.fetchall())"
   ]
  },
  {
   "cell_type": "code",
   "execution_count": null,
   "id": "cf6e0e0d",
   "metadata": {},
   "outputs": [
    {
     "data": {
      "text/plain": [
       "'MATCH p=(a:Entity {id: 844424930131971})-[r*..2]->(b:Entity) RETURN b.name as idk, nodes(p) as idk2, r as idk3'"
      ]
     },
     "execution_count": 21,
     "metadata": {},
     "output_type": "execute_result"
    }
   ],
   "source": [
    "entity_id = \"IS A\"#\"844424930131971\" # Entity ID of Jane-Ellen Long\n",
    "\n",
    "# cypher / cols / params pulled from kieran's k_hops_neighbours function\n",
    "cypher_k_hops = \\\n",
    "\"MATCH p=(a:Entity {id: %s})-[r*..%s]->(b:Entity) RETURN b.name as idk, nodes(p) as idk2, r as idk3\"\n",
    "cols_k_hops = (\"name\", \"nodes\", \"edges\")\n",
    "params_k_hops = (entity_id, 2)\n",
    "\n",
    "cypher_k_hops % params_k_hops"
   ]
  },
  {
   "cell_type": "code",
   "execution_count": 22,
   "id": "3eb15daf",
   "metadata": {},
   "outputs": [
    {
     "name": "stdout",
     "output_type": "stream",
     "text": [
      "K-Hops Query Result: []\n"
     ]
    }
   ],
   "source": [
    "# test exec cypher for the k-hops query\n",
    "with age_client.scoped_session() as session:\n",
    "    cursor = exec_cypher(conn=session, graph_name=KG_NAME, cols=cols_k_hops, cypher_stmt=cypher_k_hops, params=params_k_hops)\n",
    "    print(\"K-Hops Query Result:\", cursor.fetchall())"
   ]
  },
  {
   "cell_type": "code",
   "execution_count": null,
   "id": "8010bd72",
   "metadata": {},
   "outputs": [],
   "source": [
    "# Get all edges for Jane-Ellen Long 1 or 2 hops away\n",
    "SELECT * FROM cypher('kg_83e8bf62_8797_4ed5_be17_4ae430622533', $$\n",
    "MATCH p=(a:Entity {name: 'Jane-Ellen Long'})-[r*..2]->(b:Entity) RETURN b.name\n",
    "$$) as (name agtype);\n",
    "\n",
    "# Get all entity names\n",
    "SELECT * FROM cypher('kg_83e8bf62_8797_4ed5_be17_4ae430622533', $$\n",
    "MATCH (e:Entity)\n",
    "RETURN e.name\n",
    "$$) as (name agtype);"
   ]
  },
  {
   "cell_type": "code",
   "execution_count": null,
   "id": "5c287741",
   "metadata": {},
   "outputs": [
    {
     "name": "stdout",
     "output_type": "stream",
     "text": [
      "MATCH p=(a:Entity {id: JANE-ELLEN LONG})-[r*..2]->(b:Entity) RETURN b.name as idk, nodes(p) as idk2, r as idk3\n"
     ]
    }
   ],
   "source": [
    "entity_id = \"'JANE-ELLEN LONG'\"  # Entity ID of Jane-Ellen Long\n",
    "cypher=\\\n",
    "\"\"\"MATCH p=(a:Entity {id: %s})-[r*..%s]->(b:Entity) RETURN b.name as idk, nodes(p) as idk2, r as idk3\"\"\"\n",
    "params = (entity_id, 2)\n",
    "cols = [\"name\", \"nodes\", \"edges\"]\n",
    "cypher_stmt = cypher % params\n",
    "print (cypher_stmt)\n",
    "# equates to:\n",
    "# SELECT * FROM cypher('kg_83e8bf62_8797_4ed5_be17_4ae430622533', $$\n",
    "# MATCH p=(a:Entity {id: JANE-ELLEN LONG})-[r*..2]->(b:Entity) RETURN b.name as idk, nodes(p) as idk2, r as idk3\n",
    "# $$) as (name agtype,nodes agtype,edges agtype);\n",
    "\n",
    "\n",
    "# from shared_utils.queries.apache_age import build_cypher\n",
    "\n",
    "# build_cypher(\"kg_83e8bf62_8797_4ed5_be17_4ae430622533\", cypher_stmt, cols)"
   ]
  },
  {
   "cell_type": "code",
   "execution_count": null,
   "id": "739093c3",
   "metadata": {
    "vscode": {
     "languageId": "sql"
    }
   },
   "outputs": [],
   "source": [
    "SELECT * FROM cypher('kg_83e8bf62_8797_4ed5_be17_4ae430622533', $$\n",
    "MATCH p=(a:Entity {id: 'PROTOCOLS'})-[r*..2]->(b) RETURN b.name as idk, nodes(p) as idk2, r as idk3\n",
    "$$) as (name agtype,nodes agtype,edges agtype);"
   ]
  },
  {
   "cell_type": "code",
   "execution_count": null,
   "id": "4d5d7019",
   "metadata": {
    "vscode": {
     "languageId": "sql"
    }
   },
   "outputs": [],
   "source": [
    "SELECT * FROM cypher('kg_83e8bf62_8797_4ed5_be17_4ae430622533', $$\n",
    "MATCH (v)\n",
    "RETURN v\n",
    "$$) as (v agtype);"
   ]
  },
  {
   "cell_type": "code",
   "execution_count": null,
   "id": "eb3e4cc4",
   "metadata": {
    "vscode": {
     "languageId": "sql"
    }
   },
   "outputs": [],
   "source": [
    "-- Get edge count of all vertices in graph, sort descending by edge count\n",
    "SELECT * FROM cypher('kg_83e8bf62_8797_4ed5_be17_4ae430622533', $$\n",
    "    MATCH (n)-[r]->()\n",
    "    RETURN n, COUNT(r) AS edge_count\n",
    "$$) AS (n agtype, edge_count bigint)\n",
    "ORDER BY edge_count DESC;"
   ]
  }
 ],
 "metadata": {
  "kernelspec": {
   "display_name": ".venv",
   "language": "python",
   "name": "python3"
  },
  "language_info": {
   "codemirror_mode": {
    "name": "ipython",
    "version": 3
   },
   "file_extension": ".py",
   "mimetype": "text/x-python",
   "name": "python",
   "nbconvert_exporter": "python",
   "pygments_lexer": "ipython3",
   "version": "3.12.11"
  }
 },
 "nbformat": 4,
 "nbformat_minor": 5
}
